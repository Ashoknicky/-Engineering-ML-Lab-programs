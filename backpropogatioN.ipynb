{
 "cells": [
  {
   "cell_type": "code",
   "execution_count": 1,
   "metadata": {},
   "outputs": [],
   "source": [
    "import numpy as np\n",
    "x=np.array(([2,9],[1,5],[3,6]),dtype=float)\n",
    "y=np.array(([92],[86],[89]),dtype=float)\n",
    "x=x/np.amax(x,axis=0)\n",
    "y=y/100\n"
   ]
  },
  {
   "cell_type": "code",
   "execution_count": 2,
   "metadata": {},
   "outputs": [],
   "source": [
    "def sigmoid(x):\n",
    "    return 1/(1+np.exp(-x))\n"
   ]
  },
  {
   "cell_type": "code",
   "execution_count": 3,
   "metadata": {},
   "outputs": [],
   "source": [
    "def derivative_sigmoid(x):\n",
    "    return x*(1-x)\n"
   ]
  },
  {
   "cell_type": "code",
   "execution_count": 4,
   "metadata": {},
   "outputs": [],
   "source": [
    "epoch=10\n",
    "lr=0.2\n",
    "inp=2\n",
    "hid=3\n",
    "out=1"
   ]
  },
  {
   "cell_type": "code",
   "execution_count": 5,
   "metadata": {},
   "outputs": [
    {
     "name": "stdout",
     "output_type": "stream",
     "text": [
      "[[0.99117395 0.7439941  0.20030906]\n",
      " [0.39568933 0.69323382 0.66291841]]\n",
      "[[0.3719163  0.74169989 0.11992716]]\n",
      "[[0.71549648]\n",
      " [0.23326898]\n",
      " [0.95816337]]\n",
      "[[0.73181503]]\n"
     ]
    }
   ],
   "source": [
    "wh=np.random.uniform(size=(inp,hid))\n",
    "print(wh)\n",
    "bh=np.random.uniform(size=(1,hid))\n",
    "print(bh)\n",
    "wout=np.random.uniform(size=(hid,out))\n",
    "print(wout)\n",
    "bout=np.random.uniform(size=(1,out))\n",
    "print(bout)"
   ]
  },
  {
   "cell_type": "code",
   "execution_count": 6,
   "metadata": {},
   "outputs": [
    {
     "name": "stdout",
     "output_type": "stream",
     "text": [
      "[[1.05647196 1.18922989 0.79645778]\n",
      " [0.55021872 0.63312793 0.43505769]\n",
      " [1.25496683 1.20614998 0.64225466]]\n",
      "[[1.05647196 1.18922989 0.79645778]\n",
      " [0.55021872 0.63312793 0.43505769]\n",
      " [1.25496683 1.20614998 0.64225466]]\n",
      "[[1.05647196 1.18922989 0.79645778]\n",
      " [0.55021872 0.63312793 0.43505769]\n",
      " [1.25496683 1.20614998 0.64225466]]\n",
      "[[1.05647196 1.18922989 0.79645778]\n",
      " [0.55021872 0.63312793 0.43505769]\n",
      " [1.25496683 1.20614998 0.64225466]]\n",
      "[[1.05647196 1.18922989 0.79645778]\n",
      " [0.55021872 0.63312793 0.43505769]\n",
      " [1.25496683 1.20614998 0.64225466]]\n",
      "[[1.05647196 1.18922989 0.79645778]\n",
      " [0.55021872 0.63312793 0.43505769]\n",
      " [1.25496683 1.20614998 0.64225466]]\n",
      "[[1.05647196 1.18922989 0.79645778]\n",
      " [0.55021872 0.63312793 0.43505769]\n",
      " [1.25496683 1.20614998 0.64225466]]\n",
      "[[1.05647196 1.18922989 0.79645778]\n",
      " [0.55021872 0.63312793 0.43505769]\n",
      " [1.25496683 1.20614998 0.64225466]]\n",
      "[[1.05647196 1.18922989 0.79645778]\n",
      " [0.55021872 0.63312793 0.43505769]\n",
      " [1.25496683 1.20614998 0.64225466]]\n",
      "[[1.05647196 1.18922989 0.79645778]\n",
      " [0.55021872 0.63312793 0.43505769]\n",
      " [1.25496683 1.20614998 0.64225466]]\n"
     ]
    }
   ],
   "source": [
    "for i in range(epoch):\n",
    "    hinp1=np.dot(x,wh)\n",
    "    print(hinp1)\n",
    "    hinp=hinp1+bh\n",
    "   # print(hinp)\n",
    "    hlayer_act=sigmoid(hinp)\n",
    "    outinp1=np.dot(hlayer_act,wout)\n",
    "    outinp=outinp1+bout\n",
    "    output=sigmoid(outinp)\n",
    "    "
   ]
  },
  {
   "cell_type": "code",
   "execution_count": 7,
   "metadata": {},
   "outputs": [
    {
     "name": "stdout",
     "output_type": "stream",
     "text": [
      "input\n",
      "[[0.66666667 1.        ]\n",
      " [0.33333333 0.55555556]\n",
      " [1.         0.66666667]]\n",
      "actual output\n",
      "[[0.92]\n",
      " [0.86]\n",
      " [0.89]]\n",
      "the predicted output\n",
      " [[0.89999033]\n",
      " [0.88479419]\n",
      " [0.89909846]]\n"
     ]
    }
   ],
   "source": [
    "Eo=y-output\n",
    "outgrad=derivative_sigmoid(out)\n",
    "d_out=Eo*outgrad\n",
    "EH=d_out.dot(wout.T)\n",
    "hiddengrad=derivative_sigmoid(hlayer_act)\n",
    "d_hiddenlayer=EH*hiddengrad\n",
    "wout+=hlayer_act.T.dot(d_out)\n",
    "wh+=x.T.dot(d_hiddenlayer)*lr\n",
    "print(\"input\\n\"+str(x))\n",
    "print(\"actual output\\n\"+str(y))\n",
    "print(\"the predicted output\\n\",output)"
   ]
  },
  {
   "cell_type": "code",
   "execution_count": null,
   "metadata": {},
   "outputs": [],
   "source": []
  }
 ],
 "metadata": {
  "kernelspec": {
   "display_name": "Python 3",
   "language": "python",
   "name": "python3"
  },
  "language_info": {
   "codemirror_mode": {
    "name": "ipython",
    "version": 3
   },
   "file_extension": ".py",
   "mimetype": "text/x-python",
   "name": "python",
   "nbconvert_exporter": "python",
   "pygments_lexer": "ipython3",
   "version": "3.7.3"
  }
 },
 "nbformat": 4,
 "nbformat_minor": 2
}
